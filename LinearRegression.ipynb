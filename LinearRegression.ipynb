{
 "cells": [
  {
   "cell_type": "code",
   "execution_count": 2,
   "id": "c585f215-1fe0-4c55-881e-caa904c06e66",
   "metadata": {},
   "outputs": [],
   "source": [
    "from sklearn.linear_model import LinearRegression as LR\n",
    "from sklearn.model_selection import train_test_split\n",
    "from sklearn.model_selection import cross_val_score\n",
    "from sklearn.datasets import fetch_california_housing as fch\n",
    "import pandas as pd"
   ]
  },
  {
   "cell_type": "code",
   "execution_count": 12,
   "id": "473e97ad-9b9f-42d6-805d-1d9a38321d9b",
   "metadata": {},
   "outputs": [],
   "source": [
    "housevalue = fch()\n",
    "x = pd.DataFrame(housevalue.data)\n",
    "x.columns = housevalue.feature_names\n",
    "y = housevalue.target"
   ]
  },
  {
   "cell_type": "code",
   "execution_count": 13,
   "id": "5afd5486-c871-4aaa-8f62-2c23f374f163",
   "metadata": {},
   "outputs": [],
   "source": [
    "xtrain, xtest,ytrain,ytest = train_test_split(x,y,test_size=0.3,random_state=666)\n",
    "for i in [xtrain, xtest]:\n",
    "    i.index = range(i.shape[0])"
   ]
  },
  {
   "cell_type": "code",
   "execution_count": 14,
   "id": "5d2d5cfc-a8cd-4992-add1-f1271cf643bc",
   "metadata": {},
   "outputs": [
    {
     "data": {
      "text/plain": [
       "array([1.94861414, 1.28751704, 0.72952491, ..., 4.13182042, 2.43947997,\n",
       "       1.36345318])"
      ]
     },
     "execution_count": 14,
     "metadata": {},
     "output_type": "execute_result"
    }
   ],
   "source": [
    "reg = LR().fit(xtrain,ytrain)\n",
    "yhat = reg.predict(xtest)\n",
    "yhat"
   ]
  },
  {
   "cell_type": "code",
   "execution_count": 15,
   "id": "760f2f76-5fd3-4278-a4e8-91c318aba5e4",
   "metadata": {},
   "outputs": [
    {
     "data": {
      "text/plain": [
       "[('MedInc', 0.440228234473077),\n",
       " ('HouseAge', 0.009483915211687993),\n",
       " ('AveRooms', -0.11284334216964098),\n",
       " ('AveBedrms', 0.6097127147709994),\n",
       " ('Population', -4.004826640747858e-06),\n",
       " ('AveOccup', -0.003969627317461856),\n",
       " ('Latitude', -0.4124682789498434),\n",
       " ('Longitude', -0.4265522739083784)]"
      ]
     },
     "execution_count": 15,
     "metadata": {},
     "output_type": "execute_result"
    }
   ],
   "source": [
    "[*zip(xtrain.columns,reg.coef_)]"
   ]
  },
  {
   "cell_type": "code",
   "execution_count": 17,
   "id": "aafcdf39-ca99-4a9b-a577-9539c52d3b0f",
   "metadata": {},
   "outputs": [
    {
     "data": {
      "text/plain": [
       "-36.25068267909076"
      ]
     },
     "execution_count": 17,
     "metadata": {},
     "output_type": "execute_result"
    }
   ],
   "source": [
    "reg.intercept_"
   ]
  },
  {
   "cell_type": "code",
   "execution_count": 18,
   "id": "f0a5e959-6ce0-4fa2-8e0e-007a5cea450b",
   "metadata": {},
   "outputs": [
    {
     "data": {
      "text/plain": [
       "0.5208993613292042"
      ]
     },
     "execution_count": 18,
     "metadata": {},
     "output_type": "execute_result"
    }
   ],
   "source": [
    "from sklearn.metrics import mean_squared_error as MSE\n",
    "MSE(yhat,ytest)"
   ]
  },
  {
   "cell_type": "code",
   "execution_count": 19,
   "id": "eef72ead-403f-41a1-abba-37510de09328",
   "metadata": {},
   "outputs": [
    {
     "data": {
      "text/plain": [
       "array([-0.48922052, -0.43335865, -0.8864377 , -0.39091641, -0.7479731 ,\n",
       "       -0.52980278, -0.28798456, -0.77326441, -0.64305557, -0.3275106 ])"
      ]
     },
     "execution_count": 19,
     "metadata": {},
     "output_type": "execute_result"
    }
   ],
   "source": [
    "cross_val_score(reg,x,y,cv=10,scoring=\"neg_mean_squared_error\")"
   ]
  },
  {
   "cell_type": "code",
   "execution_count": 20,
   "id": "52f0754d-cfff-4162-a313-4d4fa9dfe45a",
   "metadata": {},
   "outputs": [
    {
     "data": {
      "text/plain": [
       "0.33549508431167707"
      ]
     },
     "execution_count": 20,
     "metadata": {},
     "output_type": "execute_result"
    }
   ],
   "source": [
    "from sklearn.metrics import r2_score\n",
    "r2_score(yhat,ytest)"
   ]
  },
  {
   "cell_type": "code",
   "execution_count": 21,
   "id": "bbe1356c-3125-4569-bc7e-add8e292a912",
   "metadata": {},
   "outputs": [
    {
     "data": {
      "image/png": "[encoded data removed]",
      "text/plain": [
       "<Figure size 432x288 with 1 Axes>"
      ]
     },
     "metadata": {
      "needs_background": "light"
     },
     "output_type": "display_data"
    }
   ],
   "source": [
    "import matplotlib.pyplot as plt\n",
    "\n",
    "plt.plot(range(len(ytest)),sorted(ytest),c=\"black\",label=\"data\")\n",
    "plt.plot(range(len(yhat)),sorted(yhat),c=\"red\",label=\"predict\")\n",
    "plt.legend()\n",
    "plt.show()"
   ]
  },
  {
   "cell_type": "code",
   "execution_count": null,
   "id": "06e41fc4-1e9d-47bd-8413-bb1c28d5d703",
   "metadata": {},
   "outputs": [],
   "source": []
  }
 ],
 "metadata": {
  "kernelspec": {
   "display_name": "Python 3",
   "language": "python",
   "name": "python3"
  },
  "language_info": {
   "codemirror_mode": {
    "name": "ipython",
    "version": 3
   },
   "file_extension": ".py",
   "mimetype": "text/x-python",
   "name": "python",
   "nbconvert_exporter": "python",
   "pygments_lexer": "ipython3",
   "version": "3.9.0"
  }
 },
 "nbformat": 4,
 "nbformat_minor": 5
}
